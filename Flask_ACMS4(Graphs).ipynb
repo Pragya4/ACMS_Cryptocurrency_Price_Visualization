{
 "cells": [
  {
   "cell_type": "code",
   "execution_count": 1,
   "metadata": {},
   "outputs": [],
   "source": [
    "#save the json data into text file\n",
    "from flask import Flask\n",
    "from flask import request\n",
    "import requests\n",
    "import json\n",
    "from flask import render_template\n",
    "\n"
   ]
  },
  {
   "cell_type": "code",
   "execution_count": 2,
   "metadata": {},
   "outputs": [],
   "source": [
    "#first close the localhost window then interrupt kernel\n",
    "app = Flask(__name__)\n",
    "@app.route('/', methods=['GET','POST'])\n",
    "def hello():\n",
    "\treturn 'Hey'\n",
    "@app.route('/cryptoPrice',methods=['GET','POST'])\n",
    "def cryptoPrice():\n",
    "    cryptoS=raw_input()\n",
    "    cryptoT=raw_input()\n",
    "    url = \"https://min-api.cryptocompare.com/data/price?fsym={}&tsyms={}\".format(cryptoS,cryptoT)\n",
    "    try:\n",
    "        response=requests.get(url)\n",
    "        return response.text\n",
    "    except:\n",
    "        return \"Connection Error\"\n",
    "#if (__name__ == \"__main__\"):\n",
    "#    app.run(debug=False)"
   ]
  },
  {
   "cell_type": "code",
   "execution_count": 3,
   "metadata": {
    "scrolled": true
   },
   "outputs": [],
   "source": [
    "@app.route('/PerHalfHour',methods=['GET','POST'])\n",
    "def PerHalfHour():\n",
    "    #from\n",
    "    cryptoS=raw_input()\n",
    "    #to what \n",
    "    cryptoT=raw_input()\n",
    "    #limiting the number of rows\n",
    "    limit=raw_input()\n",
    "    #aggregate over what time,1=1 minute,3=3min\n",
    "    agg=raw_input()\n",
    "    #for 30 min aggregate of a day limit=48,aggregate=30\n",
    "    url = \"https://min-api.cryptocompare.com/data/histominute?fsym={}&tsym={}&limit={}&aggregate={}&e=CCCAGG\".format(cryptoS,cryptoT,limit,agg)\n",
    "    try:\n",
    "        response=requests.get(url)\n",
    "        with open(cryptoS+\".json\",\"wb\") as fo:\n",
    "           fo.write(response.text)\n",
    "        return response.text\n",
    "    except:\n",
    "        return \"Connection Error\"\n"
   ]
  },
  {
   "cell_type": "code",
   "execution_count": 4,
   "metadata": {},
   "outputs": [],
   "source": [
    "import pygal\n",
    "import json\n",
    "from datetime import datetime\n",
    "import time\n"
   ]
  },
  {
   "cell_type": "code",
   "execution_count": 5,
   "metadata": {},
   "outputs": [
    {
     "data": {
      "text/plain": [
       "\"import random\\nimport pygal\\nchart = pygal.Line(x_label_rotation=20)\\ndate_list = [datetime(2017, 1, 30, 0, 0, n) for n in range(0, 60)]\\nvalues_list = [random.randint(5, 20) for n in range(0, 60)]\\nchart.x_labels = date_list\\nchart.add('line', values_list)\\nchart.render_to_file('your_path_to_file')\""
      ]
     },
     "execution_count": 5,
     "metadata": {},
     "output_type": "execute_result"
    }
   ],
   "source": [
    "\"\"\"from datetime import datetime\n",
    "datetimeline = pygal.DateTimeLine(\n",
    "    x_label_rotation=35, truncate_label=-1,\n",
    "    x_value_formatter=lambda dt: dt.strftime('%d, %b %Y at %I:%M:%S %p'))\n",
    "datetimeline.add(\"Serie\", [\n",
    "    (datetime(2013, 1, 2, 12, 0), 300),\n",
    "    (datetime(2013, 1, 12, 14, 30, 45), 412),\n",
    "    (datetime(2013, 2, 2, 6), 823),\n",
    "    (datetime(2013, 2, 22, 9, 45), 672)\n",
    "])\n",
    "datetimeline.render()\"\"\"\n",
    "\"\"\"@app.route(\"/bar\")\n",
    "def bar():\n",
    "    with open('bar.json','r') as bar_file:\n",
    "        data = json.load(bar_file)\n",
    "    chart = pygal.Bar()\n",
    "    mark_list = [x['mark'] for x in data]\n",
    "    chart.add('Annual Mark List',mark_list)\n",
    "    chart.x_labels = [x['year'] for x in data]\n",
    "    chart.render_to_file('static/images/bar_chart.svg')\n",
    "    img_url = 'static/images/bar_chart.svg?cache=' + str(time.time())\n",
    "    return render_template('app.html',image_url = img_url)\"\"\"\n",
    "#load data from json\n",
    "#load timestamp datafor x axis\n",
    "#load price for y axis\n",
    "#create a linegraph\n",
    "#improve by converting timestamp to datetime\n",
    "\"\"\"import random\n",
    "import pygal\n",
    "chart = pygal.Line(x_label_rotation=20)\n",
    "date_list = [datetime(2017, 1, 30, 0, 0, n) for n in range(0, 60)]\n",
    "values_list = [random.randint(5, 20) for n in range(0, 60)]\n",
    "chart.x_labels = date_list\n",
    "chart.add('line', values_list)\n",
    "chart.render_to_file('your_path_to_file')\"\"\"\n",
    "#x_axis_data=[]\n",
    "#y_axis_data=[]\n",
    "#with open('BTC.json') as data_file:\n",
    "#    data = json.loads(data_file.read())\n",
    "#for item in range(49):\n",
    "#    x_axis_data.append((datetime.fromtimestamp(data['Data'][item]['time'])).strftime('%Y-%m-%d %H:%M:%S'))\n",
    "#for item in range(49):\n",
    "#    y_axis_data.append(int(data['Data'][item]['close']))\n",
    "#chart=pygal.Line(x_label_rotation=20)\n",
    "#chart.x_labels=x_axis_data\n",
    "#chart.add('line',y_axis_data)\n",
    "#chart.render('static/images/bar_chart.svg')"
   ]
  },
  {
   "cell_type": "code",
   "execution_count": 6,
   "metadata": {
    "scrolled": true
   },
   "outputs": [
    {
     "name": "stderr",
     "output_type": "stream",
     "text": [
      " * Running on http://127.0.0.1:5000/ (Press CTRL+C to quit)\n",
      "127.0.0.1 - - [21/Mar/2018 16:59:39] \"GET / HTTP/1.1\" 200 -\n"
     ]
    },
    {
     "name": "stdout",
     "output_type": "stream",
     "text": [
      "BTC\n",
      "USD\n",
      "1440\n",
      "30\n"
     ]
    },
    {
     "name": "stderr",
     "output_type": "stream",
     "text": [
      "127.0.0.1 - - [21/Mar/2018 17:00:09] \"GET /PerHalfHour HTTP/1.1\" 200 -\n"
     ]
    }
   ],
   "source": [
    "@app.route(\"/LineGraph\",methods=['GET','POST'])\n",
    "def LineGraph():\n",
    "    x_axis_data=[]\n",
    "    y_axis_data=[]\n",
    "    with open('BTC.json') as data_file:\n",
    "        data = json.loads(data_file.read())\n",
    "    for item in range(49):\n",
    "        x_axis_data.append((datetime.fromtimestamp(data['Data'][item]['time'])).strftime('%Y-%m-%d %H:%M:%S'))\n",
    "    for item in range(49):\n",
    "        y_axis_data.append(int(data['Data'][item]['close']))\n",
    "    print(x_axis_data)\n",
    "    print(y_axis_data)\n",
    "    chart=pygal.Line(x_label_rotation=20)\n",
    "    chart.x_labels=x_axis_data\n",
    "    chart.add('line',y_axis_data)\n",
    "    #chart.render('static/images/bar_chart.svg')\n",
    "    chart.render_to_file('Line_chart.svg')\n",
    "    img_url = 'static/images/Line_chart.svg?cache=' + str(time.time())\n",
    "    return render_template('app.html',image_url = img_url)\n",
    "if (__name__ == \"__main__\"):\n",
    "    app.run(debug=False)"
   ]
  },
  {
   "cell_type": "code",
   "execution_count": null,
   "metadata": {},
   "outputs": [],
   "source": []
  },
  {
   "cell_type": "code",
   "execution_count": null,
   "metadata": {},
   "outputs": [],
   "source": []
  }
 ],
 "metadata": {
  "kernelspec": {
   "display_name": "Python [default]",
   "language": "python",
   "name": "python2"
  },
  "language_info": {
   "codemirror_mode": {
    "name": "ipython",
    "version": 2
   },
   "file_extension": ".py",
   "mimetype": "text/x-python",
   "name": "python",
   "nbconvert_exporter": "python",
   "pygments_lexer": "ipython2",
   "version": "2.7.14"
  }
 },
 "nbformat": 4,
 "nbformat_minor": 2
}
