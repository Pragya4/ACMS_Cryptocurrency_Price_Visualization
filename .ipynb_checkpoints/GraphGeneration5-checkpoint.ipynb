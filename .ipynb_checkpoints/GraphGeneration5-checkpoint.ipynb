{
 "cells": [
  {
   "cell_type": "code",
   "execution_count": 1,
   "metadata": {},
   "outputs": [],
   "source": [
    "#save the json data into text file\n",
    "from flask import Flask\n",
    "from flask import request\n",
    "import requests\n",
    "import json\n",
    "from flask import render_template\n",
    "import psycopg2\n",
    "import time\n",
    "from datetime import datetime\n"
   ]
  },
  {
   "cell_type": "code",
   "execution_count": 2,
   "metadata": {},
   "outputs": [],
   "source": [
    "#first close the localhost window then interrupt kernel\n",
    "app = Flask(__name__)\n",
    "@app.route('/', methods=['GET','POST'])\n",
    "def hello():\n",
    "    str=\"Welcome to Data visualization,Current cryptocurrencies under consideration are \\n 1)Bitcoin-BTC \\n 2)Ethereum-ETH \\n 3)Litecoin-LTC \\n 4)BitcoinCash-BCH \\n 5)Ripple-XRP\\n\"\n",
    "    return str\n"
   ]
  },
  {
   "cell_type": "code",
   "execution_count": 3,
   "metadata": {},
   "outputs": [],
   "source": [
    "@app.route('/cryptoPrice',methods=['GET','POST'])\n",
    "def cryptoPrice():\n",
    "    cryptoS=raw_input()\n",
    "    cryptoT=raw_input()\n",
    "    url = \"https://min-api.cryptocompare.com/data/price?fsym={}&tsyms={}\".format(cryptoS,cryptoT)\n",
    "    try:\n",
    "        response=requests.get(url)\n",
    "        return response.text\n",
    "    except:\n",
    "        return \"Connection Error\"\n",
    "#if (__name__ == \"__main__\"):\n",
    "#    app.run(debug=False)"
   ]
  },
  {
   "cell_type": "markdown",
   "metadata": {
    "scrolled": true
   },
   "source": [
    "#Data Visualization through Graphs"
   ]
  },
  {
   "cell_type": "code",
   "execution_count": 4,
   "metadata": {},
   "outputs": [],
   "source": [
    "import pygal\n",
    "import json\n",
    "from datetime import datetime\n",
    "import time\n"
   ]
  },
  {
   "cell_type": "markdown",
   "metadata": {},
   "source": [
    "#Graph for a specific Cryptocurrency"
   ]
  },
  {
   "cell_type": "code",
   "execution_count": 5,
   "metadata": {},
   "outputs": [],
   "source": [
    "#to access say,BTC,over duration of day: URL http://127.0.0.1:5000/BTC/day/\n",
    "#to access say,XRP,over duration of month : URL http://127.0.0.1:5000/XRP/month/\n",
    "\n",
    "@app.route(\"/individual/<cryptoname>/<duration>/\",methods=['GET','POST'])\n",
    "def IndividualGraph(cryptoname,duration):\n",
    "    cur.execute(\"select symbol,price_usd,last_updated from public.currency where symbol='{}'\".format(cryptoname)+\";\")\n",
    "    rows=cur.fetchone()\n",
    "    #30 minutes time gap per entry for a day:48 rows\n",
    "    if(duration=='day'):\n",
    "        cur.execute(\"select symbol,price_usd,last_updated from public.currency where symbol='{}'\".format(cryptoname)+\";\")\n",
    "        rows=cur.fetchmany(48)\n",
    "    elif(duration=='month'):\n",
    "        #30 minute time gap entry for a month : 1440 rows,currently since that many rows arent available ,700 rows \n",
    "        cur.execute(\"select symbol,price_usd,last_updated from public.currency where symbol='{}'\".format(cryptoname),\";\")\n",
    "        rows=cur.fetchmany(700)\n",
    "        \n",
    "    elif(duration=='year'):\n",
    "        cur.execute(\"select symbol,price_usd,last_updated from public.currency where symbol='BTC';\")\n",
    "        rows=cur.fetchall()\n",
    "#plotting interactive svg\n",
    "    cryptod_x_axis_data=[]\n",
    "    cryptod_y_axis_data=[]\n",
    "    for i in range(len(rows)):\n",
    "        tupl= rows[i]\n",
    "        var= tupl[2]\n",
    "        if type(var)==float:\n",
    "            cryptod_x_axis_data.append((datetime.fromtimestamp(tupl[2])).strftime('%Y-%m-%d %H:%M:%S'))\n",
    "            cryptod_y_axis_data.append(tupl[1])\n",
    "    #conn.close()\n",
    "    chart=pygal.Line(x_label_rotation=45,x_labels_major_every=10,show_minor_x_labels=False)\n",
    "    chart.x_labels=cryptod_x_axis_data\n",
    "    chart.add(cryptoname+\" \"+duration,cryptod_y_axis_data)\n",
    "    #if you want to download graph uncomment below\n",
    "    chart.render_to_file('static/images/'+cryptoname+duration+'.svg')\n",
    "    chart=chart.render_data_uri()\n",
    "    \n",
    "    return render_template( 'charts.html', chart = chart)\n",
    "    \n",
    "        \n",
    "\n",
    "    "
   ]
  },
  {
   "cell_type": "code",
   "execution_count": 6,
   "metadata": {},
   "outputs": [],
   "source": [
    "#Comparison graph of all 5 cryptocurrency"
   ]
  },
  {
   "cell_type": "code",
   "execution_count": 7,
   "metadata": {
    "scrolled": true
   },
   "outputs": [],
   "source": [
    "#to find a graph comparing 5 Cryptocurrency over duration of day/month url: http://127.0.0.1:5000/AllGraphs/day/ \n",
    "#or url: http://127.0.0.1:5000/AllGraphs/month/\n",
    "@app.route(\"/AllGraphs/<duration>/\",methods=['GET','POST'])\n",
    "def LineGraph(duration):\n",
    "    cur.execute(\"select symbol,price_usd,last_updated from public.currency where symbol='BTC';\")\n",
    "    rows=cur.fetchone()\n",
    "    coins=['BTC','ETH','LTC','XRP','BCH']\n",
    "    chart=pygal.Line(x_label_rotation=45,x_labels_major_every=10,show_minor_x_labels=False)\n",
    "    for cryptoname in coins:\n",
    "        if(duration=='day'):\n",
    "            \n",
    "            cur.execute(\"select symbol,price_usd,last_updated from public.currency where symbol='{}'\".format(cryptoname)+\";\")\n",
    "            rows=cur.fetchmany(48)\n",
    "        elif(duration=='month'):\n",
    "            cur.execute(\"select symbol,price_usd,last_updated from public.currency where symbol='{}'\".format(cryptoname),\";\")\n",
    "            rows=cur.fetchmany(700)       \n",
    "        cryptod_y_axis_data=[]\n",
    "        for i in range(len(rows)):\n",
    "            tupl= rows[i]\n",
    "            var= tupl[2]\n",
    "            if type(var)==float:\n",
    "                cryptod_y_axis_data.append(tupl[1])\n",
    "            \n",
    "        chart.add(cryptoname+\" \"+duration,cryptod_y_axis_data)\n",
    "    cryptod_x_axis_data=[]\n",
    "    \n",
    "    for i in range(len(rows)):\n",
    "        tupl=rows[i]\n",
    "        var=tupl[2]\n",
    "        if type(var)==float:\n",
    "            cryptod_x_axis_data.append((datetime.fromtimestamp(tupl[2])).strftime('%Y-%m-%d %H:%M:%S'))\n",
    "    chart.x_labels=cryptod_x_axis_data\n",
    "    #uncomment next line if you want to save graph in file \n",
    "    chart.render_to_file('static/images/All'+duration+'.svg')\n",
    "    #uncomment next 2 lines if graph response embedded in html is needed\n",
    "    #chart=chart.render_data_uri()\n",
    "    #return render_template( 'charts.html', chart = chart)\n",
    "    return chart.render_response()\n",
    "    \n",
    "        \n"
   ]
  },
  {
   "cell_type": "code",
   "execution_count": null,
   "metadata": {},
   "outputs": [
    {
     "name": "stderr",
     "output_type": "stream",
     "text": [
      " * Running on http://127.0.0.1:5000/ (Press CTRL+C to quit)\n"
     ]
    }
   ],
   "source": [
    "if (__name__ == \"__main__\"):\n",
    "    #establishing connections\n",
    "    hostname = 'baasu.db.elephantsql.com'\n",
    "    username = 'dbuzkqmi'\n",
    "    password = 'vi24qSFc5TG77k5GPa4aQr3XlnLOBIRf'\n",
    "    database = 'dbuzkqmi'\n",
    "    port='5432'\n",
    "    conn = psycopg2.connect(host=hostname, user=username, password=password, dbname=database,port=port)\n",
    "    #conn=connection()\n",
    "    curr=conn.cursor()\n",
    "    password ='12345'\n",
    "    email='goyalakshita@gmail.com'\n",
    "    name='Akshita'\n",
    "    curr.execute(\"insert into public.user (password,email,name) values('{}','{}','{}')\".format(password,email,name))\n",
    "    cur=conn.cursor()\n",
    "    app.run(debug=False)"
   ]
  },
  {
   "cell_type": "code",
   "execution_count": null,
   "metadata": {},
   "outputs": [],
   "source": []
  },
  {
   "cell_type": "code",
   "execution_count": null,
   "metadata": {},
   "outputs": [],
   "source": []
  },
  {
   "cell_type": "code",
   "execution_count": null,
   "metadata": {},
   "outputs": [],
   "source": []
  }
 ],
 "metadata": {
  "kernelspec": {
   "display_name": "Python [default]",
   "language": "python",
   "name": "python2"
  },
  "language_info": {
   "codemirror_mode": {
    "name": "ipython",
    "version": 2
   },
   "file_extension": ".py",
   "mimetype": "text/x-python",
   "name": "python",
   "nbconvert_exporter": "python",
   "pygments_lexer": "ipython2",
   "version": "2.7.14"
  }
 },
 "nbformat": 4,
 "nbformat_minor": 2
}
