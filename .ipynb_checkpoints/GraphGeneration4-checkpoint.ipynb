{
 "cells": [
  {
   "cell_type": "code",
   "execution_count": 8,
   "metadata": {},
   "outputs": [],
   "source": [
    "#save the json data into text file\n",
    "from flask import Flask\n",
    "from flask import request\n",
    "import requests\n",
    "import json\n",
    "from flask import render_template\n",
    "import psycopg2\n",
    "import time\n",
    "from datetime import datetime\n"
   ]
  },
  {
   "cell_type": "code",
   "execution_count": 9,
   "metadata": {},
   "outputs": [],
   "source": [
    "#first close the localhost window then interrupt kernel\n",
    "app = Flask(__name__)\n",
    "@app.route('/', methods=['GET','POST'])\n",
    "def hello():\n",
    "    str=\"Welcome to Data visualization,Current cryptocurrencies under consideration are \\n 1)Bitcoin-BTC \\n 2)Ethereum-ETH \\n 3)Litecoin-LTC \\n 4)BitcoinCash-BCH \\n 5)Ripple-XRP\\n \\n to get graph of individual cryptocurrency in daily fashion : generic url :http://127.0.0.1:5000/Symbol_of_cryptocurrency/day/\"+\"in monthly fashion: generic URL: http://127.0.0.1:5000/symbol_of_cryptocurrency/month/\"+\"Get a comparison graph of daily data: url: http://127.0.0.1:5000/AllGraphs/day/\"+\"Get graph of montly data: url:http://127.0.0.1:5000/AllGraphs/month/\"\n",
    "    return str\n"
   ]
  },
  {
   "cell_type": "code",
   "execution_count": null,
   "metadata": {},
   "outputs": [],
   "source": [
    "@app.route('/cryptoPrice',methods=['GET','POST'])\n",
    "def cryptoPrice():\n",
    "    cryptoS=raw_input()\n",
    "    cryptoT=raw_input()\n",
    "    url = \"https://min-api.cryptocompare.com/data/price?fsym={}&tsyms={}\".format(cryptoS,cryptoT)\n",
    "    try:\n",
    "        response=requests.get(url)\n",
    "        return response.text\n",
    "    except:\n",
    "        return \"Connection Error\"\n",
    "#if (__name__ == \"__main__\"):\n",
    "#    app.run(debug=False)"
   ]
  },
  {
   "cell_type": "markdown",
   "metadata": {
    "scrolled": true
   },
   "source": [
    "#Data Visualization through Graphs"
   ]
  },
  {
   "cell_type": "code",
   "execution_count": 10,
   "metadata": {},
   "outputs": [],
   "source": [
    "import pygal\n",
    "import json\n",
    "from datetime import datetime\n",
    "import time\n"
   ]
  },
  {
   "cell_type": "markdown",
   "metadata": {},
   "source": [
    "#Graph for a specific Cryptocurrency"
   ]
  },
  {
   "cell_type": "code",
   "execution_count": 11,
   "metadata": {},
   "outputs": [],
   "source": [
    "#to access say,BTC,over duration of day: URL http://127.0.0.1:5000/BTC/day/\n",
    "#to access say,XRP,over duration of month : URL http://127.0.0.1:5000/XRP/month/\n",
    "\n",
    "@app.route(\"/individual/<cryptoname>/<duration>/\",methods=['GET','POST'])\n",
    "def IndividualGraph(cryptoname,duration):\n",
    "    cur.execute(\"select symbol,price_usd,last_updated from public.currency where symbol='{}'\".format(cryptoname)+\";\")\n",
    "    rows=cur.fetchone()\n",
    "    #30 minutes time gap per entry for a day:48 rows\n",
    "    if(duration=='day'):\n",
    "        cur.execute(\"select symbol,price_usd,last_updated from public.currency where symbol='{}'\".format(cryptoname)+\";\")\n",
    "        rows=cur.fetchmany(48)\n",
    "    elif(duration=='month'):\n",
    "        #30 minute time gap entry for a month : 1440 rows,currently since that many rows arent available ,700 rows \n",
    "        cur.execute(\"select symbol,price_usd,last_updated from public.currency where symbol='{}'\".format(cryptoname),\";\")\n",
    "        rows=cur.fetchmany(700)\n",
    "        \n",
    "    elif(duration=='year'):\n",
    "        cur.execute(\"select symbol,price_usd,last_updated from public.currency where symbol='BTC';\")\n",
    "        rows=cur.fetchall()\n",
    "#plotting interactive svg\n",
    "    cryptod_x_axis_data=[]\n",
    "    cryptod_y_axis_data=[]\n",
    "    for i in range(len(rows)):\n",
    "        tupl= rows[i]\n",
    "        var= tupl[2]\n",
    "        if type(var)==float:\n",
    "            cryptod_x_axis_data.append((datetime.fromtimestamp(tupl[2])).strftime('%Y-%m-%d %H:%M:%S'))\n",
    "            cryptod_y_axis_data.append(tupl[1])\n",
    "    #conn.close()\n",
    "    chart=pygal.Line(x_label_rotation=45)\n",
    "    chart.x_labels=cryptod_x_axis_data\n",
    "    chart.add(cryptoname+\" \"+duration,cryptod_y_axis_data)\n",
    "    #if you want to download graph uncomment below\n",
    "    #chart.render_to_file('static/images/'+cryptoname+'.svg')\n",
    "    chart=chart.render_data_uri()\n",
    "    \n",
    "    return render_template( 'charts.html', chart = chart)\n",
    "    \n",
    "        \n",
    "\n",
    "    "
   ]
  },
  {
   "cell_type": "code",
   "execution_count": 12,
   "metadata": {},
   "outputs": [],
   "source": [
    "#Comparison graph of all 5 cryptocurrency"
   ]
  },
  {
   "cell_type": "code",
   "execution_count": 13,
   "metadata": {
    "scrolled": true
   },
   "outputs": [],
   "source": [
    "#to find a graph comparing 5 Cryptocurrency over duration of day/month url: http://127.0.0.1:5000/AllGraphs/day/ \n",
    "#or url: http://127.0.0.1:5000/AllGraphs/month/\n",
    "@app.route(\"/AllGraphs/<duration>/\",methods=['GET','POST'])\n",
    "def LineGraph(duration):\n",
    "    cur.execute(\"select symbol,price_usd,last_updated from public.currency where symbol='BTC';\")\n",
    "    rows=cur.fetchone()\n",
    "    coins=['BTC','ETH','LTC','XRP','BCH']\n",
    "    chart=pygal.Line(x_label_rotation=45)\n",
    "    for cryptoname in coins:\n",
    "        if(duration=='day'):\n",
    "            print 'day'\n",
    "            cur.execute(\"select symbol,price_usd,last_updated from public.currency where symbol='{}'\".format(cryptoname)+\";\")\n",
    "            rows=cur.fetchmany(48)\n",
    "        elif(duration=='month'):\n",
    "            cur.execute(\"select symbol,price_usd,last_updated from public.currency where symbol='{}'\".format(cryptoname),\";\")\n",
    "            rows=cur.fetchmany(700)       \n",
    "        cryptod_y_axis_data=[]\n",
    "        for i in range(len(rows)):\n",
    "            tupl= rows[i]\n",
    "            var= tupl[2]\n",
    "            if type(var)==float:\n",
    "                cryptod_y_axis_data.append(tupl[1])\n",
    "            \n",
    "        chart.add(cryptoname+\" \"+duration,cryptod_y_axis_data)\n",
    "    cryptod_x_axis_data=[]\n",
    "    \n",
    "    for i in range(len(rows)):\n",
    "        tupl=rows[i]\n",
    "        var=tupl[2]\n",
    "        if type(var)==float:\n",
    "            cryptod_x_axis_data.append((datetime.fromtimestamp(tupl[2])).strftime('%Y-%m-%d %H:%M:%S'))\n",
    "    chart.x_labels=cryptod_x_axis_data\n",
    "    #uncomment next line if you want to save graph in file \n",
    "    #chart.render_to_file('static/images/All'+cryptoname+'.svg')\n",
    "    #uncomment next 2 lines if graph response embedded in html is needed\n",
    "    #chart=chart.render_data_uri()\n",
    "    #return render_template( 'charts.html', chart = chart)\n",
    "    return chart.render_response()\n",
    "    \n",
    "        \n"
   ]
  },
  {
   "cell_type": "code",
   "execution_count": null,
   "metadata": {},
   "outputs": [
    {
     "name": "stderr",
     "output_type": "stream",
     "text": [
      " * Running on http://127.0.0.1:5000/ (Press CTRL+C to quit)\n"
     ]
    },
    {
     "name": "stdout",
     "output_type": "stream",
     "text": [
      "day\n",
      "day\n",
      "day\n",
      "day\n",
      "day\n"
     ]
    },
    {
     "name": "stderr",
     "output_type": "stream",
     "text": [
      "127.0.0.1 - - [29/Mar/2018 02:16:46] \"GET /AllGraphs/day/ HTTP/1.1\" 200 -\n",
      "127.0.0.1 - - [29/Mar/2018 02:17:04] \"GET /AllGraphs/month/ HTTP/1.1\" 200 -\n",
      "127.0.0.1 - - [29/Mar/2018 02:17:15] \"GET /AllGraphs/month/ HTTP/1.1\" 200 -\n",
      "127.0.0.1 - - [29/Mar/2018 02:17:19] \"GET /XRP/month/ HTTP/1.1\" 404 -\n",
      "127.0.0.1 - - [29/Mar/2018 02:17:21] \"GET /XRP/month/ HTTP/1.1\" 404 -\n",
      "127.0.0.1 - - [29/Mar/2018 02:17:28] \"GET /BTC/month/ HTTP/1.1\" 404 -\n",
      "127.0.0.1 - - [29/Mar/2018 02:17:31] \"GET /BTC/month/ HTTP/1.1\" 404 -\n",
      "127.0.0.1 - - [29/Mar/2018 02:17:41] \"GET /BTC/month/ HTTP/1.1\" 404 -\n",
      "127.0.0.1 - - [29/Mar/2018 02:17:45] \"GET /BTC/day/ HTTP/1.1\" 404 -\n",
      "127.0.0.1 - - [29/Mar/2018 02:17:48] \"GET /BTC/day/ HTTP/1.1\" 404 -\n",
      "127.0.0.1 - - [29/Mar/2018 02:17:53] \"GET / HTTP/1.1\" 200 -\n",
      "127.0.0.1 - - [29/Mar/2018 02:18:03] \"GET /individual/BTC/day/ HTTP/1.1\" 200 -\n"
     ]
    },
    {
     "name": "stdout",
     "output_type": "stream",
     "text": [
      "1521631468.0 9127.02\n",
      "1521636567.0 9087.9\n",
      "1521641967.0 9070.84\n",
      "1521645869.0 9142.07\n",
      "1521647368.0 9173.82\n",
      "1521648567.0 9065.36\n",
      "1521713066.0 8835.57\n",
      "1522239567.0 8080.1\n",
      "1522243167.0 8072.0\n",
      "1522244967.0 8056.22\n",
      "1521631767.0 9127.19\n",
      "1521636567.0 9087.9\n",
      "1521641967.0 9070.84\n",
      "1521645869.0 9142.07\n",
      "1521647368.0 9173.82\n",
      "1521648868.0 9033.28\n",
      "1521711866.0 8843.2\n",
      "1521713367.0 8820.34\n",
      "1521743668.0 8692.36\n",
      "1521808167.0 8490.16\n",
      "1522081467.0 8103.87\n",
      "1522235966.0 8110.48\n",
      "1521632067.0 9133.75\n",
      "1521636567.0 9087.9\n",
      "1521641967.0 9070.84\n",
      "1521645869.0 9142.07\n",
      "1521648271.0 9112.17\n",
      "1521648868.0 9033.28\n",
      "1521711866.0 8843.2\n",
      "1521713367.0 8820.34\n",
      "1521743668.0 8692.36\n",
      "1521808167.0 8490.16\n",
      "1522081467.0 8103.87\n",
      "1521632367.0 9142.48\n",
      "1521636567.0 9087.9\n",
      "1521641967.0 9070.84\n",
      "1521646168.0 9166.12\n",
      "1521648271.0 9112.17\n",
      "1521648868.0 9033.28\n",
      "1521711866.0 8843.2\n",
      "1521713666.0 8773.97\n",
      "1521743668.0 8692.36\n",
      "1522081467.0 8103.87\n",
      "1522239868.0 8093.08\n",
      "1521632667.0 9155.17\n",
      "1521636567.0 9087.9\n",
      "1521641967.0 9070.84\n",
      "1521646168.0 9166.12\n"
     ]
    },
    {
     "name": "stderr",
     "output_type": "stream",
     "text": [
      "127.0.0.1 - - [29/Mar/2018 02:18:11] \"GET /individual/XRP/day/ HTTP/1.1\" 200 -\n"
     ]
    },
    {
     "name": "stdout",
     "output_type": "stream",
     "text": [
      "1521631441.0 0.70911\n",
      "1521636541.0 0.705084\n",
      "1521641940.0 0.703842\n",
      "1521645841.0 0.711912\n",
      "1521647341.0 0.711758\n",
      "1521648541.0 0.702792\n",
      "1521713041.0 0.67404\n",
      "1522235641.0 0.589813\n",
      "1522239541.0 0.587569\n",
      "1522243141.0 0.584609\n",
      "1522244941.0 0.583281\n",
      "1522245540.0 0.584321\n",
      "1521631771.0 0.710322\n",
      "1521636541.0 0.705084\n",
      "1521641940.0 0.703842\n",
      "1521645841.0 0.711912\n",
      "1521647341.0 0.711758\n",
      "1521648841.0 0.699535\n",
      "1521711841.0 0.676758\n",
      "1521713341.0 0.669172\n",
      "1521743641.0 0.662338\n",
      "1521808141.0 0.635208\n",
      "1522081441.0 0.599116\n",
      "1521632041.0 0.710802\n",
      "1521636541.0 0.705084\n",
      "1521641940.0 0.703842\n",
      "1521645841.0 0.711912\n",
      "1521648279.0 0.706201\n",
      "1521648841.0 0.699535\n",
      "1521711841.0 0.676758\n",
      "1521713341.0 0.669172\n",
      "1521743641.0 0.662338\n",
      "1521808141.0 0.635208\n",
      "1522081441.0 0.599116\n",
      "1521632341.0 0.710597\n",
      "1521636541.0 0.705084\n",
      "1521641940.0 0.703842\n",
      "1521646141.0 0.712093\n",
      "1521648279.0 0.706201\n",
      "1521648841.0 0.699535\n",
      "1521711841.0 0.676758\n",
      "1521713640.0 0.667783\n",
      "1521743641.0 0.662338\n",
      "1522081441.0 0.599116\n",
      "1522235941.0 0.590453\n",
      "1522239841.0 0.586491\n",
      "1521632640.0 0.712175\n",
      "1521636541.0 0.705084\n"
     ]
    }
   ],
   "source": [
    "if (__name__ == \"__main__\"):\n",
    "    #establishing connections\n",
    "    hostname = 'baasu.db.elephantsql.com'\n",
    "    username = 'dbuzkqmi'\n",
    "    password = 'vi24qSFc5TG77k5GPa4aQr3XlnLOBIRf'\n",
    "    database = 'dbuzkqmi'\n",
    "    port='5432'\n",
    "    conn = psycopg2.connect(host=hostname, user=username, password=password, dbname=database,port=port)\n",
    "    #conn=connection()\n",
    "    curr=conn.cursor()\n",
    "    password ='12345'\n",
    "    email='goyalakshita@gmail.com'\n",
    "    name='Akshita'\n",
    "    curr.execute(\"insert into public.user (password,email,name) values('{}','{}','{}')\".format(password,email,name))\n",
    "    cur=conn.cursor()\n",
    "    app.run(debug=False)"
   ]
  },
  {
   "cell_type": "code",
   "execution_count": null,
   "metadata": {},
   "outputs": [],
   "source": []
  },
  {
   "cell_type": "code",
   "execution_count": null,
   "metadata": {},
   "outputs": [],
   "source": []
  },
  {
   "cell_type": "code",
   "execution_count": null,
   "metadata": {},
   "outputs": [],
   "source": []
  }
 ],
 "metadata": {
  "kernelspec": {
   "display_name": "Python [default]",
   "language": "python",
   "name": "python2"
  },
  "language_info": {
   "codemirror_mode": {
    "name": "ipython",
    "version": 2
   },
   "file_extension": ".py",
   "mimetype": "text/x-python",
   "name": "python",
   "nbconvert_exporter": "python",
   "pygments_lexer": "ipython2",
   "version": "2.7.14"
  }
 },
 "nbformat": 4,
 "nbformat_minor": 2
}
