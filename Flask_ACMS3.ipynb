{
 "cells": [
  {
   "cell_type": "code",
   "execution_count": 7,
   "metadata": {},
   "outputs": [],
   "source": [
    "#save the json data into text file\n",
    "from flask import Flask\n",
    "from flask import request\n",
    "import requests\n",
    "import json"
   ]
  },
  {
   "cell_type": "code",
   "execution_count": 8,
   "metadata": {},
   "outputs": [],
   "source": [
    "#first close the localhost window then interrupt kernel\n",
    "app = Flask(__name__)\n",
    "@app.route('/', methods=['GET','POST'])\n",
    "def hello():\n",
    "\treturn 'Hey'\n",
    "@app.route('/cryptoPrice',methods=['GET','POST'])\n",
    "def cryptoPrice():\n",
    "    cryptoS=raw_input()\n",
    "    cryptoT=raw_input()\n",
    "    url = \"https://min-api.cryptocompare.com/data/price?fsym={}&tsyms={}\".format(cryptoS,cryptoT)\n",
    "    try:\n",
    "        response=requests.get(url)\n",
    "        return response.text\n",
    "    except:\n",
    "        return \"Connection Error\"\n",
    "#if (__name__ == \"__main__\"):\n",
    "#    app.run(debug=False)"
   ]
  },
  {
   "cell_type": "code",
   "execution_count": 9,
   "metadata": {
    "scrolled": true
   },
   "outputs": [
    {
     "name": "stderr",
     "output_type": "stream",
     "text": [
      " * Running on http://127.0.0.1:5000/ (Press CTRL+C to quit)\n",
      "127.0.0.1 - - [13/Mar/2018 11:12:14] \"GET / HTTP/1.1\" 200 -\n"
     ]
    },
    {
     "name": "stdout",
     "output_type": "stream",
     "text": [
      "BTC\n",
      "USD\n",
      "48\n",
      "30\n"
     ]
    },
    {
     "name": "stderr",
     "output_type": "stream",
     "text": [
      "127.0.0.1 - - [13/Mar/2018 11:12:28] \"GET /PerHalfHour HTTP/1.1\" 200 -\n"
     ]
    }
   ],
   "source": [
    "@app.route('/PerHalfHour',methods=['GET','POST'])\n",
    "def PerHalfHour():\n",
    "    #from\n",
    "    cryptoS=raw_input()\n",
    "    #to what \n",
    "    cryptoT=raw_input()\n",
    "    #limiting the number of rows\n",
    "    limit=raw_input()\n",
    "    #aggregate over what time,1=1 minute,3=3min\n",
    "    agg=raw_input()\n",
    "    #for 30 min aggregate of a day limit=48,aggregate=30\n",
    "    url = \"https://min-api.cryptocompare.com/data/histominute?fsym={}&tsym={}&limit={}&aggregate={}&e=CCCAGG\".format(cryptoS,cryptoT,limit,agg)\n",
    "    try:\n",
    "        response=requests.get(url)\n",
    "        with open(cryptoS+\".txt\",\"wb\") as fo:\n",
    "           fo.write(response.text)\n",
    "        return response.text\n",
    "    except:\n",
    "        return \"Connection Error\"\n",
    "if (__name__ == \"__main__\"):\n",
    "    app.run(debug=False)"
   ]
  },
  {
   "cell_type": "code",
   "execution_count": null,
   "metadata": {},
   "outputs": [],
   "source": []
  }
 ],
 "metadata": {
  "kernelspec": {
   "display_name": "Python [default]",
   "language": "python",
   "name": "python2"
  },
  "language_info": {
   "codemirror_mode": {
    "name": "ipython",
    "version": 2
   },
   "file_extension": ".py",
   "mimetype": "text/x-python",
   "name": "python",
   "nbconvert_exporter": "python",
   "pygments_lexer": "ipython2",
   "version": "2.7.14"
  }
 },
 "nbformat": 4,
 "nbformat_minor": 2
}
